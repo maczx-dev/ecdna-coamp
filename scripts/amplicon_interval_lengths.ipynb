{
 "cells": [
  {
   "cell_type": "code",
   "execution_count": 1,
   "id": "adeb82a4",
   "metadata": {},
   "outputs": [],
   "source": [
    "import pandas as pd\n",
    "import numpy as np\n",
    "import os\n",
    "import re\n",
    "import matplotlib.pyplot as plt\n",
    "from ast import literal_eval\n",
    "from fitter import Fitter\n",
    "from scipy.stats import expon\n",
    "from collections import Counter"
   ]
  },
  {
   "cell_type": "code",
   "execution_count": 2,
   "id": "2cd7ca15",
   "metadata": {},
   "outputs": [],
   "source": [
    "# MICHAEL PATHS"
   ]
  },
  {
   "cell_type": "code",
   "execution_count": 3,
   "id": "e7fadd04",
   "metadata": {},
   "outputs": [],
   "source": [
    "depmap = \"/users/michael/Downloads/depmap_interval_files/\"\n",
    "pcawg_tcga = \"/users/michael/Downloads/pcawg_tcga_cutoff_passed_interval_files/\"\n",
    "ccle = \"/Users/michael/Downloads/amplicon_repo_datasets/ccle_aggregated_results.csv\""
   ]
  },
  {
   "cell_type": "code",
   "execution_count": null,
   "id": "a43b7fcb",
   "metadata": {},
   "outputs": [],
   "source": [
    "# KYRA PATHS"
   ]
  },
  {
   "cell_type": "code",
   "execution_count": null,
   "id": "be189a1a",
   "metadata": {},
   "outputs": [],
   "source": [
    "depmap = \"\"\n",
    "pcawg_tcga = \"\"\n",
    "ccle = \"\""
   ]
  },
  {
   "cell_type": "code",
   "execution_count": 4,
   "id": "c74004fe",
   "metadata": {},
   "outputs": [],
   "source": [
    "# get ecDNA features list from depmap, pcawg, tcga datasets"
   ]
  },
  {
   "cell_type": "code",
   "execution_count": 5,
   "id": "a13d127d",
   "metadata": {},
   "outputs": [],
   "source": [
    "files = [depmap + i for i in os.listdir(depmap)] + [pcawg_tcga + i for i in os.listdir(pcawg_tcga)]"
   ]
  },
  {
   "cell_type": "code",
   "execution_count": 6,
   "id": "f558cf27",
   "metadata": {},
   "outputs": [],
   "source": [
    "depmap_pcawg_tcga_features = []\n",
    "for f in files:\n",
    "    depmap_pcawg_tcga_features.append(pd.read_csv(f, sep='\\t', header=None))"
   ]
  },
  {
   "cell_type": "code",
   "execution_count": 7,
   "id": "770c4b2c",
   "metadata": {},
   "outputs": [],
   "source": [
    "# get ecDNA features list from ccle dataset"
   ]
  },
  {
   "cell_type": "code",
   "execution_count": 8,
   "id": "1482434c",
   "metadata": {},
   "outputs": [],
   "source": [
    "ccle_df = pd.read_csv(\"/Users/michael/Downloads/amplicon_repo_datasets/ccle_aggregated_results.csv\")"
   ]
  },
  {
   "cell_type": "code",
   "execution_count": 9,
   "id": "138ef1bd",
   "metadata": {},
   "outputs": [],
   "source": [
    "ccle_ecdna = ccle_df[ccle_df[\"Classification\"] == \"ecDNA\"]"
   ]
  },
  {
   "cell_type": "code",
   "execution_count": 10,
   "id": "610782a8",
   "metadata": {},
   "outputs": [],
   "source": [
    "ccle_features = []\n",
    "\n",
    "for __,feature in ccle_ecdna.iterrows():\n",
    "    # Find all matches (for multiple occurrences per row)\n",
    "    matches = re.findall(r\"'?(chr[\\dXY]+):(\\d+)-(\\d+)'?\", feature['Location'])\n",
    "    if len(matches) > 0:\n",
    "        df = pd.DataFrame(matches, columns=[0, 1, 2])\n",
    "        df[1] = pd.to_numeric(df[1])\n",
    "        df[2] = pd.to_numeric(df[2])\n",
    "        ccle_features.append(df)"
   ]
  },
  {
   "cell_type": "code",
   "execution_count": 11,
   "id": "8071d3d5",
   "metadata": {},
   "outputs": [],
   "source": [
    "# combine features lists and report counts"
   ]
  },
  {
   "cell_type": "code",
   "execution_count": 12,
   "id": "281590b8",
   "metadata": {},
   "outputs": [],
   "source": [
    "all_features = depmap_pcawg_tcga_features + ccle_features"
   ]
  },
  {
   "cell_type": "code",
   "execution_count": 13,
   "id": "fb661acf",
   "metadata": {},
   "outputs": [
    {
     "data": {
      "text/plain": [
       "7115"
      ]
     },
     "execution_count": 13,
     "metadata": {},
     "output_type": "execute_result"
    }
   ],
   "source": [
    "len(depmap_pcawg_tcga_features), len(ccle_features) # 1302, 361 features\n",
    "len(all_features) # 1663 total features\n",
    "sum([len(feature) for feature in all_features]) # 7115 intervals"
   ]
  },
  {
   "cell_type": "code",
   "execution_count": 14,
   "id": "a2e5ecf3",
   "metadata": {},
   "outputs": [],
   "source": [
    "# constants (in bp)"
   ]
  },
  {
   "cell_type": "code",
   "execution_count": 15,
   "id": "8ad424b8",
   "metadata": {},
   "outputs": [],
   "source": [
    "MERGE_DIST = 50000\n",
    "MIN_LEN = 10000"
   ]
  },
  {
   "cell_type": "code",
   "execution_count": 16,
   "id": "1e59bb38",
   "metadata": {},
   "outputs": [],
   "source": [
    "# function to clean intervals"
   ]
  },
  {
   "cell_type": "code",
   "execution_count": 17,
   "id": "115866ec",
   "metadata": {},
   "outputs": [],
   "source": [
    "def merge_and_drop(features):\n",
    "    num_dropped = 0\n",
    "    num_merged = 0\n",
    "    interval_lengths = []\n",
    "    \n",
    "    for feature in features:\n",
    "        interval_lengths_in_feature = []\n",
    "        \n",
    "        # store intervals as list of lists\n",
    "        processed = []\n",
    "        for __, interval in feature.iterrows():\n",
    "            processed.append(interval.tolist())\n",
    "        \n",
    "        # merge intervals < MERGE_DIST apart\n",
    "        running_total = processed[0][2] - processed[0][1]\n",
    "        for i in range(len(processed)):            \n",
    "            # add last interval to first interval in interval_lengths_in_feature if merge criteria met\n",
    "            if i == len(processed)-1:\n",
    "                interval_lengths_in_feature.append(running_total)\n",
    "\n",
    "            # if the next interval is sufficiently close to this one\n",
    "            elif processed[i][0] == processed[i+1][0] and processed[i+1][1]-processed[i][2]<=MERGE_DIST:\n",
    "                # add the next to merged length\n",
    "                length = processed[i+1][2]-processed[i+1][1]\n",
    "                running_total += length\n",
    "                num_merged += 1\n",
    "                \n",
    "            else:\n",
    "                interval_lengths_in_feature.append(running_total)\n",
    "                length = processed[i+1][2]-processed[i+1][1]\n",
    "                running_total = length\n",
    "                    \n",
    "        # drop intervals < MIN_LEN bp\n",
    "        interval_lengths_to_add = [i for i in interval_lengths_in_feature if i > MIN_LEN]\n",
    "        interval_lengths = interval_lengths + interval_lengths_to_add\n",
    "        num_dropped += len(interval_lengths_in_feature) - len(interval_lengths_to_add)\n",
    "    \n",
    "    # report cleaning stats\n",
    "    print(f\"Intervals merged (closer than {MERGE_DIST} bp apart): {num_merged}\")\n",
    "    print(f\"Intervals dropped (fewer than {MIN_LEN} bp long): {num_dropped}\")\n",
    "    \n",
    "    return interval_lengths"
   ]
  },
  {
   "cell_type": "code",
   "execution_count": 18,
   "id": "261ad7f0",
   "metadata": {},
   "outputs": [
    {
     "name": "stdout",
     "output_type": "stream",
     "text": [
      "Intervals merged (closer than 50000 bp apart): 2193\n",
      "Intervals dropped (fewer than 10000 bp long): 672\n"
     ]
    }
   ],
   "source": [
    "interval_lengths = merge_and_drop(all_features)"
   ]
  },
  {
   "cell_type": "code",
   "execution_count": 19,
   "id": "52e76525",
   "metadata": {},
   "outputs": [
    {
     "data": {
      "text/plain": [
       "4250"
      ]
     },
     "execution_count": 19,
     "metadata": {},
     "output_type": "execute_result"
    }
   ],
   "source": [
    "len(interval_lengths) # 4250 intervals after cleaning"
   ]
  },
  {
   "cell_type": "code",
   "execution_count": null,
   "id": "9bd3f5be",
   "metadata": {},
   "outputs": [],
   "source": [
    "# YAY done! gl w interviews :>"
   ]
  },
  {
   "cell_type": "code",
   "execution_count": null,
   "id": "96850cb3",
   "metadata": {},
   "outputs": [],
   "source": [
    "# ----------------------------- END 02.06.25 SESSION -----------------------------"
   ]
  },
  {
   "cell_type": "code",
   "execution_count": null,
   "id": "afbebd0f",
   "metadata": {},
   "outputs": [],
   "source": [
    "# Code following has not been organized"
   ]
  },
  {
   "cell_type": "code",
   "execution_count": null,
   "id": "1e78a068",
   "metadata": {},
   "outputs": [],
   "source": []
  },
  {
   "cell_type": "code",
   "execution_count": null,
   "id": "8656697c",
   "metadata": {},
   "outputs": [],
   "source": []
  },
  {
   "cell_type": "code",
   "execution_count": null,
   "id": "b24bf237",
   "metadata": {},
   "outputs": [],
   "source": []
  },
  {
   "cell_type": "code",
   "execution_count": null,
   "id": "6ee8159e",
   "metadata": {},
   "outputs": [],
   "source": [
    "# MERGE ALGORITHM TOY EXAMPLE\n",
    "\n",
    "MERGE_DIST = 1\n",
    "MIN_LEN = 1\n",
    "    \n",
    "processed = [(1,8,10), (5,2,4), (1,13,15), (1,16,20), (1,2,4)]\n",
    "interval_lengths_in_feature = []\n",
    "\n",
    "running_total = processed[0][2] - processed[0][1]\n",
    "            \n",
    "for i in range(len(processed)):\n",
    "    # add last interval to first interval in interval_lengths_in_feature if merge criteria met\n",
    "    if i == len(processed)-1:\n",
    "        interval_lengths_in_feature.append(running_total)\n",
    "\n",
    "    # if the next interval is sufficiently close to this one\n",
    "    elif processed[i][0] == processed[i+1][0] and processed[i+1][1]-processed[i][2]<=MERGE_DIST:\n",
    "        print(i)\n",
    "        # add the next to merged length\n",
    "        length = processed[i+1][2]-processed[i+1][1]\n",
    "        running_total += length\n",
    "        if length < 0:\n",
    "            print(\"OH NO\")\n",
    "    else:\n",
    "        interval_lengths_in_feature.append(running_total)\n",
    "        length = processed[i+1][2]-processed[i+1][1]\n",
    "        running_total = length\n",
    "        if length < 0:\n",
    "            print(\"OH NO\")\n",
    "        \n",
    "interval_lengths_in_feature"
   ]
  },
  {
   "cell_type": "code",
   "execution_count": null,
   "id": "a0694e3c",
   "metadata": {},
   "outputs": [],
   "source": [
    "MERGE_DIST = 50000\n",
    "MIN_LEN = 10000\n",
    "\n",
    "# merge intervals < MERGE_DIST apart,\n",
    "# then drop intervals < MIN_LEN long\n",
    "def merge_and_drop(input_list):\n",
    "    interval_lengths = []\n",
    "    \n",
    "    for feature in input_list:\n",
    "        # convert to list\n",
    "        intervals = literal_eval(feature)\n",
    "        nonempty = len(intervals) > 0 and intervals != ['']\n",
    "        # compute length of each interval\n",
    "        if nonempty:\n",
    "            processed = []\n",
    "            interval_lengths_in_feature = []\n",
    "            \n",
    "            for interval in intervals:\n",
    "                # extract interval info\n",
    "                pattern = r\"chr(\\d+|X):(\\d+)-(\\d+)\"\n",
    "                match = re.search(pattern, interval)\n",
    "                if match:\n",
    "                    chr_num, start, end = match.groups()\n",
    "                else:\n",
    "                    print(f\"No match found for {interval}\")\n",
    "                processed.append((chr_num, int(start), int(end)))\n",
    "                \n",
    "            running_total = processed[0][2] - processed[0][1]\n",
    "            \n",
    "            for i in range(len(processed)):\n",
    "                # add last interval to first interval in interval_lengths_in_feature if merge criteria met\n",
    "                if i == len(processed)-1:\n",
    "                    interval_lengths_in_feature.append(running_total)\n",
    "\n",
    "                # if the next interval is sufficiently close to this one\n",
    "                elif processed[i][0] == processed[i+1][0] and processed[i+1][1]-processed[i][2]<=MERGE_DIST:\n",
    "                    # add the next to merged length\n",
    "                    length = processed[i+1][2]-processed[i+1][1]\n",
    "                    running_total += length\n",
    "                    if length < 0:\n",
    "                        print(\"OH NO\")\n",
    "                else:\n",
    "                    interval_lengths_in_feature.append(running_total)\n",
    "                    length = processed[i+1][2]-processed[i+1][1]\n",
    "                    running_total = length\n",
    "                    if length < 0:\n",
    "                        print(\"OH NO\")\n",
    "                    \n",
    "            interval_lengths_to_add = [i for i in interval_lengths_in_feature if i > MIN_LEN]\n",
    "            interval_lengths = interval_lengths + interval_lengths_to_add\n",
    "        \n",
    "    return interval_lengths"
   ]
  },
  {
   "cell_type": "code",
   "execution_count": null,
   "id": "6f83fa1d",
   "metadata": {},
   "outputs": [],
   "source": [
    "lengths_merged = merge_and_drop(locations)"
   ]
  },
  {
   "cell_type": "code",
   "execution_count": null,
   "id": "9c9fb638",
   "metadata": {},
   "outputs": [],
   "source": [
    "min(lengths_merged), max(lengths_merged)"
   ]
  },
  {
   "cell_type": "code",
   "execution_count": null,
   "id": "ad169e2b",
   "metadata": {},
   "outputs": [],
   "source": [
    "lengths_merged_df = pd.DataFrame(lengths_merged, columns=['Numbers'])"
   ]
  },
  {
   "cell_type": "code",
   "execution_count": null,
   "id": "c50c1871",
   "metadata": {},
   "outputs": [],
   "source": [
    "lengths_merged_df.describe()"
   ]
  },
  {
   "cell_type": "code",
   "execution_count": null,
   "id": "df82df31",
   "metadata": {},
   "outputs": [],
   "source": [
    "f = Fitter(lengths_merged_df)\n",
    "f.fit()\n",
    "print(f.summary())"
   ]
  },
  {
   "cell_type": "code",
   "execution_count": null,
   "id": "9436cd2b",
   "metadata": {},
   "outputs": [],
   "source": [
    "f = Fitter(lengths_merged_df, distributions=['expon'])\n",
    "f.fit()\n",
    "print(f.summary())"
   ]
  },
  {
   "cell_type": "code",
   "execution_count": null,
   "id": "45599d71",
   "metadata": {},
   "outputs": [],
   "source": [
    "f = Fitter(lengths_merged_df, distributions=['gamma'])\n",
    "f.fit()\n",
    "print(f.summary())"
   ]
  },
  {
   "cell_type": "code",
   "execution_count": null,
   "id": "385f6bc7",
   "metadata": {},
   "outputs": [],
   "source": []
  },
  {
   "cell_type": "code",
   "execution_count": null,
   "id": "5f79458d",
   "metadata": {},
   "outputs": [],
   "source": [
    "# function to extract lengths from input list\n",
    "def process_intervals(input_list):\n",
    "    interval_lengths = []\n",
    "    feature_lengths = []\n",
    "    intervals_are_multichr = []\n",
    "    intervals_under_1000 = []\n",
    "    ecDNAs_under_1k = 0\n",
    "    chr_nums_list = []\n",
    "    i = 0\n",
    "    for feature in input_list:\n",
    "        # convert to list\n",
    "        intervals = literal_eval(feature)\n",
    "        nonempty = len(intervals) > 0 and intervals != ['']\n",
    "        # compute length of each interval\n",
    "        if nonempty:\n",
    "            under_1k = False\n",
    "            toSum = []\n",
    "            chr_nums = []\n",
    "            for interval in intervals:\n",
    "                # extract interval info\n",
    "                pattern = r\"chr(\\d+|X):(\\d+)-(\\d+)\"\n",
    "                match = re.search(pattern, interval)\n",
    "                if match:\n",
    "                    chr_num, start, end = match.groups()\n",
    "                else:\n",
    "                    print(f\"No match found for {interval}\")\n",
    "                chr_nums.append(chr_num)\n",
    "                dist = int(end) - int(start)\n",
    "                toSum.append(dist)\n",
    "                # add interval to individual list\n",
    "                interval_lengths.append(dist)\n",
    "                chr_nums_list.append(chr_num)\n",
    "                if dist < 1000:\n",
    "                    under_1k = True\n",
    "                    intervals_under_1000.append(chr_num)\n",
    "            # add summed intervals to feature list\n",
    "            feature_lengths.append(sum(toSum))\n",
    "            # check if multichromosomal\n",
    "            multi_bool = 0\n",
    "            for num in chr_nums:\n",
    "                if not num == chr_nums[0]:\n",
    "                    multi_bool = 1\n",
    "                    break\n",
    "            intervals_are_multichr.append(multi_bool)\n",
    "            if under_1k:\n",
    "                ecDNAs_under_1k += 1\n",
    "        if i == 86:\n",
    "            print(len(toSum))\n",
    "        i+=1\n",
    "    print(ecDNAs_under_1k, '/', len(feature_lengths))        \n",
    "    return interval_lengths, feature_lengths, intervals_are_multichr, intervals_under_1000,chr_nums_list "
   ]
  },
  {
   "cell_type": "code",
   "execution_count": null,
   "id": "2a6f9721",
   "metadata": {},
   "outputs": [],
   "source": [
    "interval_lengths, feature_lengths, intervals_are_multichr,intervals_under_1000,chr_nums_list = process_intervals(locations)"
   ]
  },
  {
   "cell_type": "code",
   "execution_count": null,
   "id": "f498387c",
   "metadata": {},
   "outputs": [],
   "source": [
    "# small fraction\n",
    "len(intervals_under_1000), len(interval_lengths), len(intervals_under_1000) / len(interval_lengths)"
   ]
  },
  {
   "cell_type": "code",
   "execution_count": null,
   "id": "237930a2",
   "metadata": {},
   "outputs": [],
   "source": [
    "len(chr_nums_list)"
   ]
  },
  {
   "cell_type": "code",
   "execution_count": null,
   "id": "91cea53d",
   "metadata": {
    "scrolled": true
   },
   "outputs": [],
   "source": [
    "for key in Counter(intervals_under_1000):\n",
    "    print(key,':', (Counter(intervals_under_1000)[key]/len(intervals_under_1000))/(Counter(chr_nums_list)[key]/len(chr_nums_list)))\n",
    "    "
   ]
  },
  {
   "cell_type": "code",
   "execution_count": null,
   "id": "4a92e357",
   "metadata": {},
   "outputs": [],
   "source": [
    "Counter(chr_nums_list)"
   ]
  },
  {
   "cell_type": "code",
   "execution_count": null,
   "id": "d7a5b4be",
   "metadata": {},
   "outputs": [],
   "source": [
    "# multichromosomal fraction\n",
    "sum(intervals_are_multichr), len(feature_lengths), sum(intervals_are_multichr) / len(feature_lengths)"
   ]
  },
  {
   "cell_type": "code",
   "execution_count": null,
   "id": "bf976c79",
   "metadata": {},
   "outputs": [],
   "source": [
    "len(interval_lengths), len(feature_lengths), len(locations)"
   ]
  },
  {
   "cell_type": "code",
   "execution_count": null,
   "id": "08984de3",
   "metadata": {},
   "outputs": [],
   "source": [
    "# convert to df"
   ]
  },
  {
   "cell_type": "code",
   "execution_count": null,
   "id": "6dcb3f27",
   "metadata": {},
   "outputs": [],
   "source": [
    "intervals_df = pd.DataFrame(interval_lengths, columns=['Numbers'])"
   ]
  },
  {
   "cell_type": "code",
   "execution_count": null,
   "id": "c8eb2c76",
   "metadata": {},
   "outputs": [],
   "source": [
    "intervals_single = [i for i,m in zip(interval_lengths, intervals_are_multichr) if not m]\n",
    "\n",
    "intervals_single_df = pd.DataFrame(intervals_single)\n",
    "\n",
    "intervals_single_df.describe()"
   ]
  },
  {
   "cell_type": "code",
   "execution_count": null,
   "id": "c8a2ec65",
   "metadata": {},
   "outputs": [],
   "source": [
    "intervals_df.describe()"
   ]
  },
  {
   "cell_type": "code",
   "execution_count": null,
   "id": "0eb85de8",
   "metadata": {},
   "outputs": [],
   "source": [
    "Q1 = intervals_df['Numbers'].quantile(0.25)  # 25th percentile\n",
    "Q3 = intervals_df['Numbers'].quantile(0.75)  # 75th percentile\n",
    "IQR = Q3 - Q1\n",
    "lower_threshold = Q1 - 1.5 * IQR\n",
    "upper_threshold = Q3 + 1.5 * IQR"
   ]
  },
  {
   "cell_type": "code",
   "execution_count": null,
   "id": "02fe633f",
   "metadata": {},
   "outputs": [],
   "source": [
    "lower_threshold, upper_threshold"
   ]
  },
  {
   "cell_type": "code",
   "execution_count": null,
   "id": "73f63500",
   "metadata": {},
   "outputs": [],
   "source": [
    "intervals_outliers = intervals_df[intervals_df['Numbers'] > upper_threshold]\n",
    "intervals_outliers.describe()"
   ]
  },
  {
   "cell_type": "code",
   "execution_count": null,
   "id": "831ea536",
   "metadata": {},
   "outputs": [],
   "source": [
    "intervals_no_outliers = intervals_df[intervals_df['Numbers'] < upper_threshold]"
   ]
  },
  {
   "cell_type": "code",
   "execution_count": null,
   "id": "aa9d2d1c",
   "metadata": {
    "scrolled": true
   },
   "outputs": [],
   "source": [
    "intervals_no_outliers.describe()"
   ]
  },
  {
   "cell_type": "code",
   "execution_count": null,
   "id": "2347bd48",
   "metadata": {},
   "outputs": [],
   "source": [
    "# using fitter to test different distributions"
   ]
  },
  {
   "cell_type": "code",
   "execution_count": null,
   "id": "9edd4c9b",
   "metadata": {
    "scrolled": true
   },
   "outputs": [],
   "source": [
    "f = Fitter(intervals_no_outliers)\n",
    "f.fit()\n",
    "print(f.summary())"
   ]
  },
  {
   "cell_type": "code",
   "execution_count": null,
   "id": "1affd895",
   "metadata": {},
   "outputs": [],
   "source": [
    "# for slides\n",
    "f = Fitter(intervals_no_outliers, distributions=['fatiguelife','mielke','burr12','johnsonsu','nct','gamma','expon'])\n",
    "f.fit()\n",
    "print(f.df_errors)"
   ]
  },
  {
   "cell_type": "code",
   "execution_count": null,
   "id": "9a3a2933",
   "metadata": {},
   "outputs": [],
   "source": [
    "f.get_best()"
   ]
  },
  {
   "cell_type": "code",
   "execution_count": null,
   "id": "99ad6e9b",
   "metadata": {},
   "outputs": [],
   "source": [
    "f = Fitter(intervals_no_outliers, distributions=['gamma'])\n",
    "f.fit()\n",
    "print(f.summary())"
   ]
  },
  {
   "cell_type": "code",
   "execution_count": null,
   "id": "ff0d565d",
   "metadata": {},
   "outputs": [],
   "source": [
    "f.get_best()"
   ]
  },
  {
   "cell_type": "code",
   "execution_count": null,
   "id": "63c1df43",
   "metadata": {},
   "outputs": [],
   "source": [
    "f = Fitter(intervals_no_outliers, distributions=['expon'])\n",
    "f.fit()\n",
    "print(f.summary())"
   ]
  },
  {
   "cell_type": "code",
   "execution_count": null,
   "id": "290b64b6",
   "metadata": {},
   "outputs": [],
   "source": [
    "f.get_best()"
   ]
  },
  {
   "cell_type": "code",
   "execution_count": null,
   "id": "63a51fb8",
   "metadata": {},
   "outputs": [],
   "source": [
    "# using scipy to fit the exponential dist"
   ]
  },
  {
   "cell_type": "code",
   "execution_count": null,
   "id": "becbe01c",
   "metadata": {},
   "outputs": [],
   "source": [
    "loc, scale = expon.fit(intervals_no_outliers)\n",
    "\n",
    "lambda_param = 1/scale\n",
    "\n",
    "print(f\"Fitted lambda: {lambda_param}, loc: {loc}, scale: {scale}\")\n",
    "\n",
    "test_value = \n",
    "\n",
    "cdf = expon.cdf(test_value, loc=loc, scale=scale)\n",
    "\n",
    "1-cdf"
   ]
  },
  {
   "cell_type": "code",
   "execution_count": null,
   "id": "1da66aec",
   "metadata": {},
   "outputs": [],
   "source": [
    "# histogram plots for experimental interval dists"
   ]
  },
  {
   "cell_type": "code",
   "execution_count": null,
   "id": "f4e55433",
   "metadata": {},
   "outputs": [],
   "source": [
    "plt.figure(figsize=(8, 6))\n",
    "plt.hist(intervals_single, bins=50, alpha=0.7)\n",
    "plt.title(\"Interval Lengths for Single Chromosome ecDNAs (310)\")\n",
    "plt.xlabel(\"Length (nt)\")\n",
    "plt.ylabel(\"Frequency\")\n",
    "plt.grid(axis='y', linestyle='--', alpha=0.7)\n",
    "plt.show()"
   ]
  },
  {
   "cell_type": "code",
   "execution_count": null,
   "id": "45175e01",
   "metadata": {},
   "outputs": [],
   "source": [
    "plt.figure(figsize=(8, 6))\n",
    "plt.hist(interval_lengths, bins=50, alpha=0.7)\n",
    "plt.title(\"Interval Lengths for all CCLE ecDNAs (361)\")\n",
    "plt.xlabel(\"Length (nt)\")\n",
    "plt.ylabel(\"Frequency\")\n",
    "plt.grid(axis='y', linestyle='--', alpha=0.7)\n",
    "plt.show()"
   ]
  },
  {
   "cell_type": "code",
   "execution_count": null,
   "id": "b691cf88",
   "metadata": {},
   "outputs": [],
   "source": [
    "cutoff = 25000\n",
    "intervals_cutoff = [i for i in interval_lengths if i < cutoff]"
   ]
  },
  {
   "cell_type": "code",
   "execution_count": null,
   "id": "24a93bb2",
   "metadata": {},
   "outputs": [],
   "source": [
    "plt.figure(figsize=(8, 6))\n",
    "plt.hist(intervals_cutoff, bins=50, alpha=0.7)\n",
    "plt.title(\"Interval Lengths < 100000\")\n",
    "plt.xlabel(\"Length (nt)\")\n",
    "plt.ylabel(\"Frequency\")\n",
    "plt.grid(axis='y', linestyle='--', alpha=0.7)\n",
    "plt.show()"
   ]
  },
  {
   "cell_type": "code",
   "execution_count": null,
   "id": "b22dc5b2",
   "metadata": {},
   "outputs": [],
   "source": [
    "plt.figure(figsize=(8, 6))\n",
    "plt.hist(feature_lengths, bins=50, alpha=0.7)\n",
    "plt.title(\"Interval Lengths Summed Per Feature\")\n",
    "plt.xlabel(\"Length (nt)\")\n",
    "plt.ylabel(\"Frequency\")\n",
    "plt.grid(axis='y', linestyle='--', alpha=0.7)\n",
    "plt.show()"
   ]
  },
  {
   "cell_type": "code",
   "execution_count": null,
   "id": "fbae5bbb",
   "metadata": {},
   "outputs": [],
   "source": [
    "# function to save list to text file\n",
    "def save_list_to_txt(numbers, filename):\n",
    "    with open(filename, 'w') as f:\n",
    "        for number in numbers:\n",
    "            f.write(f\"{number}\\n\")"
   ]
  },
  {
   "cell_type": "code",
   "execution_count": null,
   "id": "6a1c50ce",
   "metadata": {},
   "outputs": [],
   "source": [
    "save_list_to_txt(lengths1, \"ccle_interval_lengths.txt\")\n",
    "save_list_to_txt(lengths2, \"ccle_interval_lengths_summed_by_feature.txt\")"
   ]
  },
  {
   "cell_type": "code",
   "execution_count": null,
   "id": "38bff595",
   "metadata": {},
   "outputs": [],
   "source": []
  }
 ],
 "metadata": {
  "kernelspec": {
   "display_name": "Python 3 (ipykernel)",
   "language": "python",
   "name": "python3"
  },
  "language_info": {
   "codemirror_mode": {
    "name": "ipython",
    "version": 3
   },
   "file_extension": ".py",
   "mimetype": "text/x-python",
   "name": "python",
   "nbconvert_exporter": "python",
   "pygments_lexer": "ipython3",
   "version": "3.10.9"
  }
 },
 "nbformat": 4,
 "nbformat_minor": 5
}
