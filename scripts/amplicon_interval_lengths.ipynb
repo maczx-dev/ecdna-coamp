{
 "cells": [
  {
   "cell_type": "code",
   "execution_count": 82,
   "id": "adeb82a4",
   "metadata": {},
   "outputs": [],
   "source": [
    "import pandas as pd\n",
    "import numpy as np\n",
    "import os\n",
    "import re\n",
    "import matplotlib.pyplot as plt\n",
    "from ast import literal_eval\n",
    "from fitter import Fitter\n",
    "from scipy.stats import expon\n",
    "from scipy.stats import gamma\n",
    "from collections import Counter\n",
    "from scipy import stats"
   ]
  },
  {
   "cell_type": "code",
   "execution_count": 2,
   "id": "2cd7ca15",
   "metadata": {},
   "outputs": [],
   "source": [
    "# MICHAEL PATHS"
   ]
  },
  {
   "cell_type": "code",
   "execution_count": 3,
   "id": "e7fadd04",
   "metadata": {},
   "outputs": [],
   "source": [
    "depmap = \"/users/michael/Downloads/depmap_interval_files/\"\n",
    "pcawg_tcga = \"/users/michael/Downloads/pcawg_tcga_cutoff_passed_interval_files/\"\n",
    "ccle = \"/Users/michael/Downloads/amplicon_repo_datasets/ccle_aggregated_results.csv\""
   ]
  },
  {
   "cell_type": "code",
   "execution_count": 4,
   "id": "a43b7fcb",
   "metadata": {},
   "outputs": [],
   "source": [
    "# KYRA PATHS"
   ]
  },
  {
   "cell_type": "code",
   "execution_count": 5,
   "id": "be189a1a",
   "metadata": {},
   "outputs": [],
   "source": [
    "depmap = \"/mnt/c/Users/Owner/OneDrive/Documents/BENG_Senior_Design/DepMap/data/depmap_interval_files/\"\n",
    "pcawg_tcga = \"/mnt/c/Users/Owner/OneDrive/Documents/BENG_Senior_Design/DepMap/data/pcawg_tcga_cutoff_passed_interval_files/\"\n",
    "ccle = \"/mnt/c/Users/Owner/OneDrive/Documents/BENG_Senior_Design/DepMap/data/ccle_aggregated_results.csv\""
   ]
  },
  {
   "cell_type": "code",
   "execution_count": 6,
   "id": "c74004fe",
   "metadata": {},
   "outputs": [],
   "source": [
    "# get ecDNA features list from depmap, pcawg, tcga datasets"
   ]
  },
  {
   "cell_type": "code",
   "execution_count": 7,
   "id": "a13d127d",
   "metadata": {},
   "outputs": [],
   "source": [
    "files = [depmap + i for i in os.listdir(depmap)] + [pcawg_tcga + i for i in os.listdir(pcawg_tcga)]"
   ]
  },
  {
   "cell_type": "code",
   "execution_count": 8,
   "id": "f558cf27",
   "metadata": {},
   "outputs": [],
   "source": [
    "depmap_pcawg_tcga_features = []\n",
    "for f in files:\n",
    "    depmap_pcawg_tcga_features.append(pd.read_csv(f, sep='\\t', header=None))"
   ]
  },
  {
   "cell_type": "code",
   "execution_count": 9,
   "id": "770c4b2c",
   "metadata": {},
   "outputs": [],
   "source": [
    "# get ecDNA features list from ccle dataset"
   ]
  },
  {
   "cell_type": "code",
   "execution_count": 10,
   "id": "1482434c",
   "metadata": {},
   "outputs": [],
   "source": [
    "ccle_df = pd.read_csv(ccle)"
   ]
  },
  {
   "cell_type": "code",
   "execution_count": 11,
   "id": "138ef1bd",
   "metadata": {},
   "outputs": [],
   "source": [
    "ccle_ecdna = ccle_df[ccle_df[\"Classification\"] == \"ecDNA\"]"
   ]
  },
  {
   "cell_type": "code",
   "execution_count": 12,
   "id": "610782a8",
   "metadata": {},
   "outputs": [],
   "source": [
    "ccle_features = []\n",
    "\n",
    "for __,feature in ccle_ecdna.iterrows():\n",
    "    # Find all matches (for multiple occurrences per row)\n",
    "    matches = re.findall(r\"'?(chr[\\dXY]+):(\\d+)-(\\d+)'?\", feature['Location'])\n",
    "    if len(matches) > 0:\n",
    "        df = pd.DataFrame(matches, columns=[0, 1, 2])\n",
    "        df[1] = pd.to_numeric(df[1])\n",
    "        df[2] = pd.to_numeric(df[2])\n",
    "        ccle_features.append(df)"
   ]
  },
  {
   "cell_type": "code",
   "execution_count": 13,
   "id": "8071d3d5",
   "metadata": {},
   "outputs": [],
   "source": [
    "# combine features lists and report counts"
   ]
  },
  {
   "cell_type": "code",
   "execution_count": 14,
   "id": "281590b8",
   "metadata": {},
   "outputs": [],
   "source": [
    "all_features = depmap_pcawg_tcga_features + ccle_features"
   ]
  },
  {
   "cell_type": "code",
   "execution_count": 15,
   "id": "fb661acf",
   "metadata": {},
   "outputs": [
    {
     "data": {
      "text/plain": [
       "7115"
      ]
     },
     "execution_count": 15,
     "metadata": {},
     "output_type": "execute_result"
    }
   ],
   "source": [
    "len(depmap_pcawg_tcga_features), len(ccle_features) # 1302, 361 features\n",
    "len(all_features) # 1663 total features\n",
    "sum([len(feature) for feature in all_features]) # 7115 intervals"
   ]
  },
  {
   "cell_type": "code",
   "execution_count": 16,
   "id": "a2e5ecf3",
   "metadata": {},
   "outputs": [],
   "source": [
    "# constants (in bp)"
   ]
  },
  {
   "cell_type": "code",
   "execution_count": 19,
   "id": "8ad424b8",
   "metadata": {},
   "outputs": [],
   "source": [
    "MERGE_DIST = 50000\n",
    "## MIN_LEN = 10000\n",
    "MIN_LEN = 0 # fit without dropping"
   ]
  },
  {
   "cell_type": "code",
   "execution_count": 20,
   "id": "1e59bb38",
   "metadata": {},
   "outputs": [],
   "source": [
    "# function to clean intervals"
   ]
  },
  {
   "cell_type": "code",
   "execution_count": 21,
   "id": "115866ec",
   "metadata": {},
   "outputs": [],
   "source": [
    "def merge_and_drop(features):\n",
    "    num_dropped = 0\n",
    "    num_merged = 0\n",
    "    interval_lengths = []\n",
    "    \n",
    "    for feature in features:\n",
    "        interval_lengths_in_feature = []\n",
    "        \n",
    "        # store intervals as list of lists\n",
    "        processed = []\n",
    "        for __, interval in feature.iterrows():\n",
    "            processed.append(interval.tolist())\n",
    "        \n",
    "        # merge intervals < MERGE_DIST apart\n",
    "        running_total = processed[0][2] - processed[0][1]\n",
    "        for i in range(len(processed)):            \n",
    "            # add last interval to first interval in interval_lengths_in_feature if merge criteria met\n",
    "            if i == len(processed)-1:\n",
    "                interval_lengths_in_feature.append(running_total)\n",
    "\n",
    "            # if the next interval is sufficiently close to this one\n",
    "            elif processed[i][0] == processed[i+1][0] and processed[i+1][1]-processed[i][2]<=MERGE_DIST:\n",
    "                # add the next to merged length\n",
    "                length = processed[i+1][2]-processed[i+1][1]\n",
    "                running_total += length\n",
    "                num_merged += 1\n",
    "                \n",
    "            else:\n",
    "                interval_lengths_in_feature.append(running_total)\n",
    "                length = processed[i+1][2]-processed[i+1][1]\n",
    "                running_total = length\n",
    "                    \n",
    "        # drop intervals < MIN_LEN bp\n",
    "        interval_lengths_to_add = [i for i in interval_lengths_in_feature if i > MIN_LEN]\n",
    "        interval_lengths = interval_lengths + interval_lengths_to_add\n",
    "        num_dropped += len(interval_lengths_in_feature) - len(interval_lengths_to_add)\n",
    "    \n",
    "    # report cleaning stats\n",
    "    print(f\"Intervals merged (closer than {MERGE_DIST} bp apart): {num_merged}\")\n",
    "    print(f\"Intervals dropped (fewer than {MIN_LEN} bp long): {num_dropped}\")\n",
    "    \n",
    "    return interval_lengths"
   ]
  },
  {
   "cell_type": "code",
   "execution_count": 22,
   "id": "261ad7f0",
   "metadata": {},
   "outputs": [
    {
     "name": "stdout",
     "output_type": "stream",
     "text": [
      "Intervals merged (closer than 50000 bp apart): 2193\n",
      "Intervals dropped (fewer than 0 bp long): 0\n"
     ]
    }
   ],
   "source": [
    "interval_lengths = merge_and_drop(all_features)"
   ]
  },
  {
   "cell_type": "code",
   "execution_count": 24,
   "id": "52e76525",
   "metadata": {},
   "outputs": [
    {
     "data": {
      "text/plain": [
       "4922"
      ]
     },
     "execution_count": 24,
     "metadata": {},
     "output_type": "execute_result"
    }
   ],
   "source": [
    "len(interval_lengths) # 4250 intervals after cleaning"
   ]
  },
  {
   "cell_type": "code",
   "execution_count": 25,
   "id": "9bd3f5be",
   "metadata": {},
   "outputs": [],
   "source": [
    "# YAY done! gl w interviews :>"
   ]
  },
  {
   "cell_type": "code",
   "execution_count": 26,
   "id": "96850cb3",
   "metadata": {},
   "outputs": [],
   "source": [
    "# ----------------------------- END 02.06.25 SESSION -----------------------------"
   ]
  },
  {
   "cell_type": "code",
   "execution_count": 27,
   "id": "a3eae4e2-62c2-43fd-9f96-5fcf76c460af",
   "metadata": {},
   "outputs": [],
   "source": [
    "# ----------------------------- BEGIN Kyra 02.11.25 SESSION -----------------------------"
   ]
  },
  {
   "cell_type": "code",
   "execution_count": 28,
   "id": "08654312-3f7a-4065-a761-090d936354ef",
   "metadata": {},
   "outputs": [],
   "source": [
    "lengths_merged_df = pd.DataFrame(interval_lengths, columns=['Lengths'])"
   ]
  },
  {
   "cell_type": "code",
   "execution_count": 29,
   "id": "4f96f751-415a-4dc2-934a-45a6ce7204ec",
   "metadata": {},
   "outputs": [
    {
     "data": {
      "text/html": [
       "<div>\n",
       "<style scoped>\n",
       "    .dataframe tbody tr th:only-of-type {\n",
       "        vertical-align: middle;\n",
       "    }\n",
       "\n",
       "    .dataframe tbody tr th {\n",
       "        vertical-align: top;\n",
       "    }\n",
       "\n",
       "    .dataframe thead th {\n",
       "        text-align: right;\n",
       "    }\n",
       "</style>\n",
       "<table border=\"1\" class=\"dataframe\">\n",
       "  <thead>\n",
       "    <tr style=\"text-align: right;\">\n",
       "      <th></th>\n",
       "      <th>Lengths</th>\n",
       "    </tr>\n",
       "  </thead>\n",
       "  <tbody>\n",
       "    <tr>\n",
       "      <th>count</th>\n",
       "      <td>4.922000e+03</td>\n",
       "    </tr>\n",
       "    <tr>\n",
       "      <th>mean</th>\n",
       "      <td>6.976210e+05</td>\n",
       "    </tr>\n",
       "    <tr>\n",
       "      <th>std</th>\n",
       "      <td>1.297818e+06</td>\n",
       "    </tr>\n",
       "    <tr>\n",
       "      <th>min</th>\n",
       "      <td>2.000000e+00</td>\n",
       "    </tr>\n",
       "    <tr>\n",
       "      <th>25%</th>\n",
       "      <td>4.654525e+04</td>\n",
       "    </tr>\n",
       "    <tr>\n",
       "      <th>50%</th>\n",
       "      <td>2.130455e+05</td>\n",
       "    </tr>\n",
       "    <tr>\n",
       "      <th>75%</th>\n",
       "      <td>7.746270e+05</td>\n",
       "    </tr>\n",
       "    <tr>\n",
       "      <th>max</th>\n",
       "      <td>1.437193e+07</td>\n",
       "    </tr>\n",
       "  </tbody>\n",
       "</table>\n",
       "</div>"
      ],
      "text/plain": [
       "            Lengths\n",
       "count  4.922000e+03\n",
       "mean   6.976210e+05\n",
       "std    1.297818e+06\n",
       "min    2.000000e+00\n",
       "25%    4.654525e+04\n",
       "50%    2.130455e+05\n",
       "75%    7.746270e+05\n",
       "max    1.437193e+07"
      ]
     },
     "execution_count": 29,
     "metadata": {},
     "output_type": "execute_result"
    }
   ],
   "source": [
    "lengths_merged_df.describe()"
   ]
  },
  {
   "cell_type": "code",
   "execution_count": 30,
   "id": "6020bc16-7677-41c1-ad61-591ea8164a06",
   "metadata": {},
   "outputs": [
    {
     "name": "stderr",
     "output_type": "stream",
     "text": [
      "2025-02-13 14:01:19.403 | WARNING  | fitter.fitter:_fit_single_distribution:337 - SKIPPED _fit distribution (taking more than 30 seconds)\n",
      "2025-02-13 14:01:19.470 | INFO     | fitter.fitter:_fit_single_distribution:333 - Fitted arcsine distribution with error=0.0)\n",
      "2025-02-13 14:01:19.470 | INFO     | fitter.fitter:_fit_single_distribution:333 - Fitted anglit distribution with error=0.0)\n",
      "2025-02-13 14:01:19.480 | INFO     | fitter.fitter:_fit_single_distribution:333 - Fitted bradford distribution with error=0.0)\n",
      "2025-02-13 14:01:19.489 | INFO     | fitter.fitter:_fit_single_distribution:333 - Fitted alpha distribution with error=0.0)\n",
      "2025-02-13 14:01:19.501 | INFO     | fitter.fitter:_fit_single_distribution:333 - Fitted argus distribution with error=0.0)\n",
      "2025-02-13 14:01:19.600 | INFO     | fitter.fitter:_fit_single_distribution:333 - Fitted cauchy distribution with error=0.0)\n",
      "2025-02-13 14:01:19.617 | INFO     | fitter.fitter:_fit_single_distribution:333 - Fitted beta distribution with error=0.0)\n",
      "2025-02-13 14:01:19.619 | INFO     | fitter.fitter:_fit_single_distribution:333 - Fitted cosine distribution with error=0.0)\n",
      "2025-02-13 14:01:19.653 | INFO     | fitter.fitter:_fit_single_distribution:333 - Fitted betaprime distribution with error=0.0)\n",
      "2025-02-13 14:01:19.687 | INFO     | fitter.fitter:_fit_single_distribution:333 - Fitted chi2 distribution with error=0.0)\n",
      "2025-02-13 14:01:19.697 | INFO     | fitter.fitter:_fit_single_distribution:333 - Fitted chi distribution with error=0.0)\n",
      "2025-02-13 14:01:19.722 | INFO     | fitter.fitter:_fit_single_distribution:333 - Fitted expon distribution with error=0.0)\n",
      "2025-02-13 14:01:19.737 | INFO     | fitter.fitter:_fit_single_distribution:333 - Fitted dgamma distribution with error=0.0)\n",
      "2025-02-13 14:01:19.792 | INFO     | fitter.fitter:_fit_single_distribution:333 - Fitted crystalball distribution with error=0.0)\n",
      "2025-02-13 14:01:19.805 | INFO     | fitter.fitter:_fit_single_distribution:333 - Fitted burr12 distribution with error=0.0)\n",
      "2025-02-13 14:01:19.807 | INFO     | fitter.fitter:_fit_single_distribution:333 - Fitted burr distribution with error=0.0)\n",
      "2025-02-13 14:01:19.812 | INFO     | fitter.fitter:_fit_single_distribution:333 - Fitted dweibull distribution with error=0.0)\n",
      "2025-02-13 14:01:19.822 | INFO     | fitter.fitter:_fit_single_distribution:333 - Fitted erlang distribution with error=0.0)\n",
      "2025-02-13 14:01:19.892 | INFO     | fitter.fitter:_fit_single_distribution:333 - Fitted fatiguelife distribution with error=0.0)\n",
      "2025-02-13 14:01:19.911 | INFO     | fitter.fitter:_fit_single_distribution:333 - Fitted foldcauchy distribution with error=0.0)\n",
      "2025-02-13 14:01:19.915 | INFO     | fitter.fitter:_fit_single_distribution:333 - Fitted exponnorm distribution with error=0.0)\n",
      "2025-02-13 14:01:19.955 | INFO     | fitter.fitter:_fit_single_distribution:333 - Fitted exponpow distribution with error=0.0)\n",
      "2025-02-13 14:01:19.977 | INFO     | fitter.fitter:_fit_single_distribution:333 - Fitted f distribution with error=0.0)\n",
      "2025-02-13 14:01:19.985 | INFO     | fitter.fitter:_fit_single_distribution:333 - Fitted gamma distribution with error=0.0)\n",
      "2025-02-13 14:01:19.992 | INFO     | fitter.fitter:_fit_single_distribution:333 - Fitted foldnorm distribution with error=0.0)\n",
      "2025-02-13 14:01:20.013 | INFO     | fitter.fitter:_fit_single_distribution:333 - Fitted dpareto_lognorm distribution with error=0.0)\n",
      "2025-02-13 14:01:20.112 | INFO     | fitter.fitter:_fit_single_distribution:333 - Fitted genhalflogistic distribution with error=0.0)\n",
      "2025-02-13 14:01:20.145 | INFO     | fitter.fitter:_fit_single_distribution:333 - Fitted fisk distribution with error=0.0)\n",
      "2025-02-13 14:01:20.206 | INFO     | fitter.fitter:_fit_single_distribution:333 - Fitted exponweib distribution with error=0.0)\n",
      "2025-02-13 14:01:20.255 | INFO     | fitter.fitter:_fit_single_distribution:333 - Fitted gennorm distribution with error=0.0)\n",
      "2025-02-13 14:01:20.260 | INFO     | fitter.fitter:_fit_single_distribution:333 - Fitted gengamma distribution with error=0.0)\n",
      "2025-02-13 14:01:20.275 | INFO     | fitter.fitter:_fit_single_distribution:333 - Fitted genlogistic distribution with error=0.0)\n",
      "2025-02-13 14:01:20.300 | INFO     | fitter.fitter:_fit_single_distribution:333 - Fitted genexpon distribution with error=0.0)\n",
      "2025-02-13 14:01:20.302 | INFO     | fitter.fitter:_fit_single_distribution:333 - Fitted gibrat distribution with error=0.0)\n",
      "2025-02-13 14:01:20.313 | INFO     | fitter.fitter:_fit_single_distribution:333 - Fitted gumbel_l distribution with error=0.0)\n",
      "2025-02-13 14:01:20.318 | INFO     | fitter.fitter:_fit_single_distribution:333 - Fitted gumbel_r distribution with error=0.0)\n",
      "2025-02-13 14:01:20.331 | INFO     | fitter.fitter:_fit_single_distribution:333 - Fitted halfcauchy distribution with error=0.0)\n",
      "2025-02-13 14:01:20.341 | INFO     | fitter.fitter:_fit_single_distribution:333 - Fitted halflogistic distribution with error=0.0)\n",
      "2025-02-13 14:01:20.341 | INFO     | fitter.fitter:_fit_single_distribution:333 - Fitted genextreme distribution with error=0.0)\n",
      "2025-02-13 14:01:20.360 | INFO     | fitter.fitter:_fit_single_distribution:333 - Fitted halfnorm distribution with error=0.0)\n",
      "2025-02-13 14:01:20.368 | INFO     | fitter.fitter:_fit_single_distribution:333 - Fitted hypsecant distribution with error=0.0)\n",
      "2025-02-13 14:01:20.428 | INFO     | fitter.fitter:_fit_single_distribution:333 - Fitted invgauss distribution with error=0.0)\n",
      "2025-02-13 14:01:20.450 | INFO     | fitter.fitter:_fit_single_distribution:333 - Fitted gompertz distribution with error=0.0)\n",
      "2025-02-13 14:01:20.451 | WARNING  | fitter.fitter:_fit_single_distribution:337 - SKIPPED irwinhall distribution (taking more than 30 seconds)\n",
      "2025-02-13 14:01:20.454 | INFO     | fitter.fitter:_fit_single_distribution:333 - Fitted invgamma distribution with error=0.0)\n",
      "2025-02-13 14:01:20.492 | INFO     | fitter.fitter:_fit_single_distribution:333 - Fitted halfgennorm distribution with error=0.0)\n",
      "2025-02-13 14:01:20.514 | INFO     | fitter.fitter:_fit_single_distribution:333 - Fitted genpareto distribution with error=0.0)\n",
      "2025-02-13 14:01:20.554 | INFO     | fitter.fitter:_fit_single_distribution:333 - Fitted invweibull distribution with error=0.0)\n",
      "2025-02-13 14:01:20.586 | INFO     | fitter.fitter:_fit_single_distribution:333 - Fitted jf_skew_t distribution with error=0.0)\n",
      "2025-02-13 14:01:20.622 | INFO     | fitter.fitter:_fit_single_distribution:333 - Fitted ksone distribution with error=0.0)\n",
      "2025-02-13 14:01:20.627 | INFO     | fitter.fitter:_fit_single_distribution:333 - Fitted kappa3 distribution with error=0.0)\n",
      "2025-02-13 14:01:20.633 | WARNING  | fitter.fitter:_fit_single_distribution:337 - SKIPPED kstwo distribution (taking more than 30 seconds)\n",
      "2025-02-13 14:01:20.651 | INFO     | fitter.fitter:_fit_single_distribution:333 - Fitted johnsonsu distribution with error=0.0)\n",
      "2025-02-13 14:01:20.658 | INFO     | fitter.fitter:_fit_single_distribution:333 - Fitted laplace distribution with error=0.0)\n",
      "2025-02-13 14:01:20.694 | INFO     | fitter.fitter:_fit_single_distribution:333 - Fitted landau distribution with error=0.0)\n",
      "2025-02-13 14:01:20.742 | INFO     | fitter.fitter:_fit_single_distribution:333 - Fitted levy distribution with error=0.0)\n",
      "2025-02-13 14:01:20.744 | INFO     | fitter.fitter:_fit_single_distribution:333 - Fitted laplace_asymmetric distribution with error=0.0)\n",
      "2025-02-13 14:01:20.782 | INFO     | fitter.fitter:_fit_single_distribution:333 - Fitted johnsonsb distribution with error=0.0)\n",
      "2025-02-13 14:01:20.805 | INFO     | fitter.fitter:_fit_single_distribution:333 - Fitted levy_l distribution with error=0.0)\n",
      "2025-02-13 14:01:20.820 | INFO     | fitter.fitter:_fit_single_distribution:333 - Fitted logistic distribution with error=0.0)\n",
      "2025-02-13 14:01:20.846 | INFO     | fitter.fitter:_fit_single_distribution:333 - Fitted kstwobign distribution with error=0.0)\n",
      "2025-02-13 14:01:20.860 | INFO     | fitter.fitter:_fit_single_distribution:333 - Fitted lognorm distribution with error=0.0)\n",
      "2025-02-13 14:01:20.861 | INFO     | fitter.fitter:_fit_single_distribution:333 - Fitted loggamma distribution with error=0.0)\n",
      "2025-02-13 14:01:20.893 | INFO     | fitter.fitter:_fit_single_distribution:333 - Fitted loglaplace distribution with error=0.0)\n",
      "2025-02-13 14:01:20.929 | INFO     | fitter.fitter:_fit_single_distribution:333 - Fitted maxwell distribution with error=0.0)\n",
      "2025-02-13 14:01:20.942 | INFO     | fitter.fitter:_fit_single_distribution:333 - Fitted loguniform distribution with error=0.0)\n",
      "2025-02-13 14:01:20.970 | INFO     | fitter.fitter:_fit_single_distribution:333 - Fitted lomax distribution with error=0.0)\n",
      "2025-02-13 14:01:20.982 | INFO     | fitter.fitter:_fit_single_distribution:333 - Fitted moyal distribution with error=0.0)\n",
      "2025-02-13 14:01:20.985 | WARNING  | fitter.fitter:_fit_single_distribution:337 - SKIPPED multivariate_normal distribution (taking more than 30 seconds)\n",
      "2025-02-13 14:01:21.079 | INFO     | fitter.fitter:_fit_single_distribution:333 - Fitted mielke distribution with error=0.0)\n",
      "2025-02-13 14:01:21.100 | INFO     | fitter.fitter:_fit_single_distribution:333 - Fitted nakagami distribution with error=0.0)\n",
      "2025-02-13 14:01:21.498 | INFO     | fitter.fitter:_fit_single_distribution:333 - Fitted kappa4 distribution with error=0.0)\n",
      "2025-02-13 14:01:21.503 | INFO     | fitter.fitter:_fit_single_distribution:333 - Fitted norm distribution with error=0.0)\n",
      "2025-02-13 14:01:24.535 | INFO     | fitter.fitter:_fit_single_distribution:333 - Fitted ncx2 distribution with error=0.0)\n",
      "2025-02-13 14:01:24.548 | INFO     | fitter.fitter:_fit_single_distribution:333 - Fitted pareto distribution with error=0.0)\n",
      "2025-02-13 14:01:24.616 | INFO     | fitter.fitter:_fit_single_distribution:333 - Fitted ncf distribution with error=0.0)\n",
      "2025-02-13 14:01:24.637 | INFO     | fitter.fitter:_fit_single_distribution:333 - Fitted powerlaw distribution with error=0.0)\n",
      "2025-02-13 14:01:24.892 | INFO     | fitter.fitter:_fit_single_distribution:333 - Fitted pearson3 distribution with error=0.0)\n",
      "2025-02-13 14:01:24.955 | INFO     | fitter.fitter:_fit_single_distribution:333 - Fitted geninvgauss distribution with error=0.0)\n",
      "2025-02-13 14:01:24.970 | INFO     | fitter.fitter:_fit_single_distribution:333 - Fitted rayleigh distribution with error=0.0)\n",
      "2025-02-13 14:01:25.144 | INFO     | fitter.fitter:_fit_single_distribution:333 - Fitted powernorm distribution with error=nan)\n",
      "2025-02-13 14:01:25.170 | INFO     | fitter.fitter:_fit_single_distribution:333 - Fitted rdist distribution with error=0.0)\n",
      "2025-02-13 14:01:25.211 | INFO     | fitter.fitter:_fit_single_distribution:333 - Fitted powerlognorm distribution with error=0.0)\n",
      "2025-02-13 14:01:25.252 | INFO     | fitter.fitter:_fit_single_distribution:333 - Fitted reciprocal distribution with error=0.0)\n",
      "2025-02-13 14:01:25.306 | INFO     | fitter.fitter:_fit_single_distribution:333 - Fitted rel_breitwigner distribution with error=0.0)\n",
      "2025-02-13 14:01:25.309 | WARNING  | fitter.fitter:_fit_single_distribution:337 - SKIPPED rv_continuous distribution (taking more than 30 seconds)\n",
      "2025-02-13 14:01:25.312 | WARNING  | fitter.fitter:_fit_single_distribution:337 - SKIPPED rv_histogram distribution (taking more than 30 seconds)\n",
      "2025-02-13 14:01:25.370 | INFO     | fitter.fitter:_fit_single_distribution:333 - Fitted semicircular distribution with error=0.0)\n",
      "2025-02-13 14:01:25.403 | INFO     | fitter.fitter:_fit_single_distribution:333 - Fitted rice distribution with error=0.0)\n",
      "2025-02-13 14:01:25.453 | INFO     | fitter.fitter:_fit_single_distribution:333 - Fitted skewcauchy distribution with error=0.0)\n",
      "2025-02-13 14:01:25.610 | INFO     | fitter.fitter:_fit_single_distribution:333 - Fitted skewnorm distribution with error=0.0)\n",
      "2025-02-13 14:01:25.971 | INFO     | fitter.fitter:_fit_single_distribution:333 - Fitted t distribution with error=0.0)\n",
      "2025-02-13 14:01:26.024 | INFO     | fitter.fitter:_fit_single_distribution:333 - Fitted trapezoid distribution with error=0.0)\n",
      "2025-02-13 14:01:26.075 | INFO     | fitter.fitter:_fit_single_distribution:333 - Fitted trapz distribution with error=0.0)\n",
      "2025-02-13 14:01:26.308 | INFO     | fitter.fitter:_fit_single_distribution:333 - Fitted triang distribution with error=0.0)\n",
      "2025-02-13 14:01:26.377 | INFO     | fitter.fitter:_fit_single_distribution:333 - Fitted truncexpon distribution with error=0.0)\n",
      "2025-02-13 14:01:26.659 | INFO     | fitter.fitter:_fit_single_distribution:333 - Fitted truncnorm distribution with error=0.0)\n",
      "2025-02-13 14:01:26.772 | INFO     | fitter.fitter:_fit_single_distribution:333 - Fitted truncpareto distribution with error=0.0)\n",
      "2025-02-13 14:01:27.005 | INFO     | fitter.fitter:_fit_single_distribution:333 - Fitted truncweibull_min distribution with error=0.0)\n",
      "2025-02-13 14:01:27.339 | INFO     | fitter.fitter:_fit_single_distribution:333 - Fitted recipinvgauss distribution with error=0.0)\n",
      "2025-02-13 14:01:27.352 | INFO     | fitter.fitter:_fit_single_distribution:333 - Fitted uniform distribution with error=0.0)\n",
      "2025-02-13 14:01:27.360 | INFO     | fitter.fitter:_fit_single_distribution:333 - Fitted vonmises distribution with error=2.535489)\n",
      "2025-02-13 14:01:27.364 | WARNING  | fitter.fitter:_fit_single_distribution:337 - SKIPPED vonmises_fisher distribution (taking more than 30 seconds)\n",
      "2025-02-13 14:01:27.882 | INFO     | fitter.fitter:_fit_single_distribution:333 - Fitted vonmises_line distribution with error=0.0)\n",
      "2025-02-13 14:01:27.914 | INFO     | fitter.fitter:_fit_single_distribution:333 - Fitted wald distribution with error=0.0)\n",
      "2025-02-13 14:01:27.997 | INFO     | fitter.fitter:_fit_single_distribution:333 - Fitted weibull_max distribution with error=0.0)\n",
      "2025-02-13 14:01:28.110 | INFO     | fitter.fitter:_fit_single_distribution:333 - Fitted weibull_min distribution with error=0.0)\n",
      "2025-02-13 14:01:28.170 | INFO     | fitter.fitter:_fit_single_distribution:333 - Fitted wrapcauchy distribution with error=0.0)\n",
      "2025-02-13 14:01:28.623 | INFO     | fitter.fitter:_fit_single_distribution:333 - Fitted gausshyper distribution with error=0.0)\n",
      "/home/kfetter/.local/lib/python3.10/site-packages/scipy/stats/_continuous_distns.py:4112: IntegrationWarning: The algorithm does not converge.  Roundoff error is detected\n",
      "  in the extrapolation table.  It is assumed that the requested tolerance\n",
      "  cannot be achieved, and that the returned result (if full_output = 1) is \n",
      "  the best which can be obtained.\n",
      "  intgrl = integrate.quad(llc, x0, x1,\n",
      "/home/kfetter/.local/lib/python3.10/site-packages/scipy/stats/_continuous_distns.py:4112: IntegrationWarning: The maximum number of subdivisions (50) has been achieved.\n",
      "  If increasing the limit yields no improvement it is advised to analyze \n",
      "  the integrand in order to determine the difficulties.  If the position of a \n",
      "  local difficulty can be determined (singularity, discontinuity) one will \n",
      "  probably gain from splitting up the interval and calling the integrator \n",
      "  on the subranges.  Perhaps a special-purpose integrator should be used.\n",
      "  intgrl = integrate.quad(llc, x0, x1,\n",
      "/home/kfetter/.local/lib/python3.10/site-packages/scipy/stats/_continuous_distns.py:4107: IntegrationWarning: The maximum number of subdivisions (50) has been achieved.\n",
      "  If increasing the limit yields no improvement it is advised to analyze \n",
      "  the integrand in order to determine the difficulties.  If the position of a \n",
      "  local difficulty can be determined (singularity, discontinuity) one will \n",
      "  probably gain from splitting up the interval and calling the integrator \n",
      "  on the subranges.  Perhaps a special-purpose integrator should be used.\n",
      "  intgrl = (integrate.quad(llc, x0, mean,\n",
      "2025-02-13 14:01:30.971 | INFO     | fitter.fitter:_fit_single_distribution:333 - Fitted genhyperbolic distribution with error=0.0)\n",
      "/home/kfetter/.local/lib/python3.10/site-packages/scipy/integrate/_quadpack_py.py:1260: IntegrationWarning: The maximum number of subdivisions (50) has been achieved.\n",
      "  If increasing the limit yields no improvement it is advised to analyze \n",
      "  the integrand in order to determine the difficulties.  If the position of a \n",
      "  local difficulty can be determined (singularity, discontinuity) one will \n",
      "  probably gain from splitting up the interval and calling the integrator \n",
      "  on the subranges.  Perhaps a special-purpose integrator should be used.\n",
      "  quad_r = quad(f, low, high, args=args, full_output=self.full_output,\n",
      "2025-02-13 14:01:33.697 | INFO     | fitter.fitter:_fit_single_distribution:333 - Fitted tukeylambda distribution with error=0.0)\n",
      "/home/kfetter/.local/lib/python3.10/site-packages/scipy/stats/_distn_infrastructure.py:1999: IntegrationWarning: The algorithm does not converge.  Roundoff error is detected\n",
      "  in the extrapolation table.  It is assumed that the requested tolerance\n",
      "  cannot be achieved, and that the returned result (if full_output = 1) is \n",
      "  the best which can be obtained.\n",
      "  return integrate.quad(self._pdf, _a, x, args=args)[0]\n",
      "2025-02-13 14:01:35.171 | INFO     | fitter.fitter:_fit_single_distribution:333 - Fitted norminvgauss distribution with error=0.0)\n",
      "/home/kfetter/.local/lib/python3.10/site-packages/scipy/integrate/_quadpack_py.py:1260: IntegrationWarning: The integral is probably divergent, or slowly convergent.\n",
      "  quad_r = quad(f, low, high, args=args, full_output=self.full_output,\n",
      "2025-02-13 14:01:50.781 | WARNING  | fitter.fitter:_fit_single_distribution:337 - SKIPPED levy_stable distribution (taking more than 30 seconds)\n",
      "2025-02-13 14:01:51.084 | WARNING  | fitter.fitter:_fit_single_distribution:337 - SKIPPED nct distribution (taking more than 30 seconds)\n",
      "2025-02-13 14:01:55.474 | WARNING  | fitter.fitter:_fit_single_distribution:337 - SKIPPED studentized_range distribution (taking more than 30 seconds)\n"
     ]
    },
    {
     "name": "stdout",
     "output_type": "stream",
     "text": [
      "              sumsquare_error          aic          bic  kl_div  ks_statistic  \\\n",
      "invgauss         5.869623e-14  3802.394287  3821.898698     inf      0.097466   \n",
      "norminvgauss     5.879904e-14  3804.255129  3830.261010     inf      4.446782   \n",
      "f                7.857655e-14  3758.158653  3784.164534     inf      0.091403   \n",
      "invgamma         7.857710e-14  3756.162310  3775.666721     inf      0.091405   \n",
      "lomax            1.031981e-13  3780.494792  3799.999203     inf      0.082091   \n",
      "\n",
      "                 ks_pvalue  \n",
      "invgauss      3.763899e-41  \n",
      "norminvgauss  0.000000e+00  \n",
      "f             3.106356e-36  \n",
      "invgamma      3.094123e-36  \n",
      "lomax         2.661138e-29  \n"
     ]
    },
    {
     "data": {
      "image/png": "[encoded data removed]",
      "text/plain": [
       "<Figure size 640x480 with 1 Axes>"
      ]
     },
     "metadata": {},
     "output_type": "display_data"
    }
   ],
   "source": [
    "f = Fitter(lengths_merged_df)\n",
    "f.fit()\n",
    "print(f.summary())"
   ]
  },
  {
   "cell_type": "code",
   "execution_count": 31,
   "id": "02d51ab3-fd7f-4f2e-925f-7e17f916bcaf",
   "metadata": {},
   "outputs": [
    {
     "name": "stdout",
     "output_type": "stream",
     "text": [
      "              sumsquare_error          aic          bic  kl_div  ks_statistic  \\\n",
      "invgauss         5.869623e-14  3802.394287  3821.898698     inf      0.097466   \n",
      "norminvgauss     5.879904e-14  3804.255129  3830.261010     inf      4.446782   \n",
      "f                7.857655e-14  3758.158653  3784.164534     inf      0.091403   \n",
      "invgamma         7.857710e-14  3756.162310  3775.666721     inf      0.091405   \n",
      "lomax            1.031981e-13  3780.494792  3799.999203     inf      0.082091   \n",
      "\n",
      "                 ks_pvalue  \n",
      "invgauss      3.763899e-41  \n",
      "norminvgauss  0.000000e+00  \n",
      "f             3.106356e-36  \n",
      "invgamma      3.094123e-36  \n",
      "lomax         2.661138e-29  \n"
     ]
    },
    {
     "data": {
      "image/png": "[encoded data removed]",
      "text/plain": [
       "<Figure size 640x480 with 1 Axes>"
      ]
     },
     "metadata": {},
     "output_type": "display_data"
    }
   ],
   "source": [
    "print(f.summary())"
   ]
  },
  {
   "cell_type": "code",
   "execution_count": 32,
   "id": "381a0ff9-4605-4dd0-8ad8-165baa1b6897",
   "metadata": {},
   "outputs": [
    {
     "name": "stderr",
     "output_type": "stream",
     "text": [
      "2025-02-13 14:03:38.301 | INFO     | fitter.fitter:_fit_single_distribution:333 - Fitted expon distribution with error=0.0)\n"
     ]
    },
    {
     "name": "stdout",
     "output_type": "stream",
     "text": [
      "       sumsquare_error          aic          bic  kl_div  ks_statistic  \\\n",
      "expon     3.218500e-12  4755.226189  4768.229129     inf      0.247247   \n",
      "\n",
      "           ks_pvalue  \n",
      "expon  1.663294e-265  \n"
     ]
    },
    {
     "data": {
      "image/png": "[encoded data removed]",
      "text/plain": [
       "<Figure size 640x480 with 1 Axes>"
      ]
     },
     "metadata": {},
     "output_type": "display_data"
    }
   ],
   "source": [
    "f = Fitter(lengths_merged_df, distributions=['expon'])\n",
    "f.fit()\n",
    "print(f.summary())"
   ]
  },
  {
   "cell_type": "code",
   "execution_count": 86,
   "id": "8b2493dd-9b6f-4f43-91c0-5ab3f99949fe",
   "metadata": {},
   "outputs": [
    {
     "name": "stderr",
     "output_type": "stream",
     "text": [
      "2025-02-13 20:28:32.487 | INFO     | fitter.fitter:_fit_single_distribution:333 - Fitted gamma distribution with error=0.0)\n"
     ]
    },
    {
     "name": "stdout",
     "output_type": "stream",
     "text": [
      "       sumsquare_error  aic  bic  kl_div  ks_statistic  ks_pvalue\n",
      "gamma     1.375691e-11  inf  inf     NaN      0.999593        0.0\n"
     ]
    },
    {
     "data": {
      "image/png": "[encoded data removed]",
      "text/plain": [
       "<Figure size 640x480 with 1 Axes>"
      ]
     },
     "metadata": {},
     "output_type": "display_data"
    }
   ],
   "source": [
    "f = Fitter(lengths_merged_df.loc[lengths_merged_df[\"Lengths\"] < 11552300] , distributions=['gamma'])\n",
    "f.fit()\n",
    "print(f.summary())"
   ]
  },
  {
   "cell_type": "code",
   "execution_count": 81,
   "id": "9b121402-c025-45a0-9a71-804d9412c8ad",
   "metadata": {},
   "outputs": [
    {
     "data": {
      "text/plain": [
       "np.float64(99.87809833401056)"
      ]
     },
     "execution_count": 81,
     "metadata": {},
     "output_type": "execute_result"
    }
   ],
   "source": [
    "stats.percentileofscore(lengths_merged_df['Lengths'], 11552300)"
   ]
  },
  {
   "cell_type": "code",
   "execution_count": 84,
   "id": "1e829227-23d9-4edf-9be1-996dba4b301a",
   "metadata": {},
   "outputs": [
    {
     "name": "stdout",
     "output_type": "stream",
     "text": [
      "Shape: 0.41731079449086045, Location: 1.9999999999999998, Scale: 1599846.1140421107\n"
     ]
    }
   ],
   "source": [
    "shape, loc, scale = gamma.fit(lengths_merged_df.loc[lengths_merged_df[\"Lengths\"] < 11552290])\n",
    "print(f\"Shape: {shape}, Location: {loc}, Scale: {scale}\")"
   ]
  },
  {
   "cell_type": "code",
   "execution_count": 109,
   "id": "b4c3bc67-ad07-47bc-9b44-6aa8681bc2df",
   "metadata": {},
   "outputs": [
    {
     "name": "stdout",
     "output_type": "stream",
     "text": [
      "Shape: 0.3987543483729932, Location: 1.999999999999, Scale: 1749495.5696758535\n"
     ]
    }
   ],
   "source": [
    "shape, loc, scale = gamma.fit(lengths_merged_df, floc = 1.999999999999)\n",
    "print(f\"Shape: {shape}, Location: {loc}, Scale: {scale}\")"
   ]
  },
  {
   "cell_type": "code",
   "execution_count": 110,
   "id": "51027631-6506-49b6-a378-dc9a5bf1d192",
   "metadata": {},
   "outputs": [
    {
     "name": "stderr",
     "output_type": "stream",
     "text": [
      "/home/kfetter/.local/lib/python3.10/site-packages/IPython/core/pylabtools.py:170: UserWarning: Creating legend with loc=\"best\" can be slow with large amounts of data.\n",
      "  fig.canvas.print_figure(bytes_io, **kw)\n"
     ]
    },
    {
     "data": {
      "image/png": "[encoded data removed]",
      "text/plain": [
       "<Figure size 640x480 with 1 Axes>"
      ]
     },
     "metadata": {},
     "output_type": "display_data"
    }
   ],
   "source": [
    "x = np.linspace(min(list(lengths_merged_df[\"Lengths\"])), max(list(lengths_merged_df[\"Lengths\"])), 10000000)\n",
    "pdf_fitted = gamma.pdf(x, shape, loc, scale)\n",
    "\n",
    "plt.hist(list(lengths_merged_df[\"Lengths\"]), bins=100, density=True, alpha=0.5, label=\"Data\")\n",
    "plt.plot(x, pdf_fitted, label=\"Gamma Fit (loc=0)\", color=\"red\")\n",
    "plt.legend()\n",
    "plt.show()"
   ]
  },
  {
   "cell_type": "code",
   "execution_count": null,
   "id": "66330924-ccd3-4d9e-9782-0adf7fccd1d1",
   "metadata": {},
   "outputs": [],
   "source": []
  },
  {
   "cell_type": "code",
   "execution_count": 44,
   "id": "ac42f046-2950-48d6-8acc-a897f1945207",
   "metadata": {},
   "outputs": [
    {
     "name": "stdout",
     "output_type": "stream",
     "text": [
      "Fitted lambda: 1.2539609010506298e-06, loc: 10017.0, scale: 797473.0305882352\n"
     ]
    }
   ],
   "source": [
    "loc, scale = expon.fit(lengths_merged_df)\n",
    "\n",
    "lambda_param = 1/scale\n",
    "\n",
    "print(f\"Fitted lambda: {lambda_param}, loc: {loc}, scale: {scale}\")\n",
    "\n",
    "#test_value = \n",
    "\n",
    "#cdf = expon.cdf(test_value, loc=loc, scale=scale)\n",
    "\n",
    "#1-cdf"
   ]
  },
  {
   "cell_type": "code",
   "execution_count": 31,
   "id": "afbebd0f",
   "metadata": {},
   "outputs": [],
   "source": [
    "# Code following has not been organized"
   ]
  },
  {
   "cell_type": "code",
   "execution_count": null,
   "id": "8656697c",
   "metadata": {},
   "outputs": [],
   "source": []
  },
  {
   "cell_type": "code",
   "execution_count": null,
   "id": "b24bf237",
   "metadata": {},
   "outputs": [],
   "source": []
  },
  {
   "cell_type": "code",
   "execution_count": null,
   "id": "6ee8159e",
   "metadata": {},
   "outputs": [],
   "source": [
    "# MERGE ALGORITHM TOY EXAMPLE\n",
    "\n",
    "MERGE_DIST = 1\n",
    "MIN_LEN = 1\n",
    "    \n",
    "processed = [(1,8,10), (5,2,4), (1,13,15), (1,16,20), (1,2,4)]\n",
    "interval_lengths_in_feature = []\n",
    "\n",
    "running_total = processed[0][2] - processed[0][1]\n",
    "            \n",
    "for i in range(len(processed)):\n",
    "    # add last interval to first interval in interval_lengths_in_feature if merge criteria met\n",
    "    if i == len(processed)-1:\n",
    "        interval_lengths_in_feature.append(running_total)\n",
    "\n",
    "    # if the next interval is sufficiently close to this one\n",
    "    elif processed[i][0] == processed[i+1][0] and processed[i+1][1]-processed[i][2]<=MERGE_DIST:\n",
    "        print(i)\n",
    "        # add the next to merged length\n",
    "        length = processed[i+1][2]-processed[i+1][1]\n",
    "        running_total += length\n",
    "        if length < 0:\n",
    "            print(\"OH NO\")\n",
    "    else:\n",
    "        interval_lengths_in_feature.append(running_total)\n",
    "        length = processed[i+1][2]-processed[i+1][1]\n",
    "        running_total = length\n",
    "        if length < 0:\n",
    "            print(\"OH NO\")\n",
    "        \n",
    "interval_lengths_in_feature"
   ]
  },
  {
   "cell_type": "code",
   "execution_count": null,
   "id": "a0694e3c",
   "metadata": {},
   "outputs": [],
   "source": [
    "MERGE_DIST = 50000\n",
    "MIN_LEN = 10000\n",
    "\n",
    "# merge intervals < MERGE_DIST apart,\n",
    "# then drop intervals < MIN_LEN long\n",
    "def merge_and_drop(input_list):\n",
    "    interval_lengths = []\n",
    "    \n",
    "    for feature in input_list:\n",
    "        # convert to list\n",
    "        intervals = literal_eval(feature)\n",
    "        nonempty = len(intervals) > 0 and intervals != ['']\n",
    "        # compute length of each interval\n",
    "        if nonempty:\n",
    "            processed = []\n",
    "            interval_lengths_in_feature = []\n",
    "            \n",
    "            for interval in intervals:\n",
    "                # extract interval info\n",
    "                pattern = r\"chr(\\d+|X):(\\d+)-(\\d+)\"\n",
    "                match = re.search(pattern, interval)\n",
    "                if match:\n",
    "                    chr_num, start, end = match.groups()\n",
    "                else:\n",
    "                    print(f\"No match found for {interval}\")\n",
    "                processed.append((chr_num, int(start), int(end)))\n",
    "                \n",
    "            running_total = processed[0][2] - processed[0][1]\n",
    "            \n",
    "            for i in range(len(processed)):\n",
    "                # add last interval to first interval in interval_lengths_in_feature if merge criteria met\n",
    "                if i == len(processed)-1:\n",
    "                    interval_lengths_in_feature.append(running_total)\n",
    "\n",
    "                # if the next interval is sufficiently close to this one\n",
    "                elif processed[i][0] == processed[i+1][0] and processed[i+1][1]-processed[i][2]<=MERGE_DIST:\n",
    "                    # add the next to merged length\n",
    "                    length = processed[i+1][2]-processed[i+1][1]\n",
    "                    running_total += length\n",
    "                    if length < 0:\n",
    "                        print(\"OH NO\")\n",
    "                else:\n",
    "                    interval_lengths_in_feature.append(running_total)\n",
    "                    length = processed[i+1][2]-processed[i+1][1]\n",
    "                    running_total = length\n",
    "                    if length < 0:\n",
    "                        print(\"OH NO\")\n",
    "                    \n",
    "            interval_lengths_to_add = [i for i in interval_lengths_in_feature if i > MIN_LEN]\n",
    "            interval_lengths = interval_lengths + interval_lengths_to_add\n",
    "        \n",
    "    return interval_lengths"
   ]
  },
  {
   "cell_type": "code",
   "execution_count": null,
   "id": "6f83fa1d",
   "metadata": {},
   "outputs": [],
   "source": [
    "lengths_merged = merge_and_drop(locations)"
   ]
  },
  {
   "cell_type": "code",
   "execution_count": null,
   "id": "9c9fb638",
   "metadata": {},
   "outputs": [],
   "source": [
    "min(lengths_merged), max(lengths_merged)"
   ]
  },
  {
   "cell_type": "code",
   "execution_count": null,
   "id": "ad169e2b",
   "metadata": {},
   "outputs": [],
   "source": [
    "lengths_merged_df = pd.DataFrame(lengths_merged, columns=['Numbers'])"
   ]
  },
  {
   "cell_type": "code",
   "execution_count": null,
   "id": "c50c1871",
   "metadata": {},
   "outputs": [],
   "source": [
    "lengths_merged_df.describe()"
   ]
  },
  {
   "cell_type": "code",
   "execution_count": null,
   "id": "df82df31",
   "metadata": {},
   "outputs": [],
   "source": [
    "f = Fitter(lengths_merged_df)\n",
    "f.fit()\n",
    "print(f.summary())"
   ]
  },
  {
   "cell_type": "code",
   "execution_count": null,
   "id": "9436cd2b",
   "metadata": {},
   "outputs": [],
   "source": [
    "f = Fitter(lengths_merged_df, distributions=['expon'])\n",
    "f.fit()\n",
    "print(f.summary())"
   ]
  },
  {
   "cell_type": "code",
   "execution_count": null,
   "id": "45599d71",
   "metadata": {},
   "outputs": [],
   "source": [
    "f = Fitter(lengths_merged_df, distributions=['gamma'])\n",
    "f.fit()\n",
    "print(f.summary())"
   ]
  },
  {
   "cell_type": "code",
   "execution_count": null,
   "id": "385f6bc7",
   "metadata": {},
   "outputs": [],
   "source": []
  },
  {
   "cell_type": "code",
   "execution_count": null,
   "id": "5f79458d",
   "metadata": {},
   "outputs": [],
   "source": [
    "# function to extract lengths from input list\n",
    "def process_intervals(input_list):\n",
    "    interval_lengths = []\n",
    "    feature_lengths = []\n",
    "    intervals_are_multichr = []\n",
    "    intervals_under_1000 = []\n",
    "    ecDNAs_under_1k = 0\n",
    "    chr_nums_list = []\n",
    "    i = 0\n",
    "    for feature in input_list:\n",
    "        # convert to list\n",
    "        intervals = literal_eval(feature)\n",
    "        nonempty = len(intervals) > 0 and intervals != ['']\n",
    "        # compute length of each interval\n",
    "        if nonempty:\n",
    "            under_1k = False\n",
    "            toSum = []\n",
    "            chr_nums = []\n",
    "            for interval in intervals:\n",
    "                # extract interval info\n",
    "                pattern = r\"chr(\\d+|X):(\\d+)-(\\d+)\"\n",
    "                match = re.search(pattern, interval)\n",
    "                if match:\n",
    "                    chr_num, start, end = match.groups()\n",
    "                else:\n",
    "                    print(f\"No match found for {interval}\")\n",
    "                chr_nums.append(chr_num)\n",
    "                dist = int(end) - int(start)\n",
    "                toSum.append(dist)\n",
    "                # add interval to individual list\n",
    "                interval_lengths.append(dist)\n",
    "                chr_nums_list.append(chr_num)\n",
    "                if dist < 1000:\n",
    "                    under_1k = True\n",
    "                    intervals_under_1000.append(chr_num)\n",
    "            # add summed intervals to feature list\n",
    "            feature_lengths.append(sum(toSum))\n",
    "            # check if multichromosomal\n",
    "            multi_bool = 0\n",
    "            for num in chr_nums:\n",
    "                if not num == chr_nums[0]:\n",
    "                    multi_bool = 1\n",
    "                    break\n",
    "            intervals_are_multichr.append(multi_bool)\n",
    "            if under_1k:\n",
    "                ecDNAs_under_1k += 1\n",
    "        if i == 86:\n",
    "            print(len(toSum))\n",
    "        i+=1\n",
    "    print(ecDNAs_under_1k, '/', len(feature_lengths))        \n",
    "    return interval_lengths, feature_lengths, intervals_are_multichr, intervals_under_1000,chr_nums_list "
   ]
  },
  {
   "cell_type": "code",
   "execution_count": null,
   "id": "2a6f9721",
   "metadata": {},
   "outputs": [],
   "source": [
    "interval_lengths, feature_lengths, intervals_are_multichr,intervals_under_1000,chr_nums_list = process_intervals(locations)"
   ]
  },
  {
   "cell_type": "code",
   "execution_count": null,
   "id": "f498387c",
   "metadata": {},
   "outputs": [],
   "source": [
    "# small fraction\n",
    "len(intervals_under_1000), len(interval_lengths), len(intervals_under_1000) / len(interval_lengths)"
   ]
  },
  {
   "cell_type": "code",
   "execution_count": null,
   "id": "237930a2",
   "metadata": {},
   "outputs": [],
   "source": [
    "len(chr_nums_list)"
   ]
  },
  {
   "cell_type": "code",
   "execution_count": null,
   "id": "91cea53d",
   "metadata": {
    "scrolled": true
   },
   "outputs": [],
   "source": [
    "for key in Counter(intervals_under_1000):\n",
    "    print(key,':', (Counter(intervals_under_1000)[key]/len(intervals_under_1000))/(Counter(chr_nums_list)[key]/len(chr_nums_list)))\n",
    "    "
   ]
  },
  {
   "cell_type": "code",
   "execution_count": null,
   "id": "4a92e357",
   "metadata": {},
   "outputs": [],
   "source": [
    "Counter(chr_nums_list)"
   ]
  },
  {
   "cell_type": "code",
   "execution_count": null,
   "id": "d7a5b4be",
   "metadata": {},
   "outputs": [],
   "source": [
    "# multichromosomal fraction\n",
    "sum(intervals_are_multichr), len(feature_lengths), sum(intervals_are_multichr) / len(feature_lengths)"
   ]
  },
  {
   "cell_type": "code",
   "execution_count": null,
   "id": "bf976c79",
   "metadata": {},
   "outputs": [],
   "source": [
    "len(interval_lengths), len(feature_lengths), len(locations)"
   ]
  },
  {
   "cell_type": "code",
   "execution_count": null,
   "id": "08984de3",
   "metadata": {},
   "outputs": [],
   "source": [
    "# convert to df"
   ]
  },
  {
   "cell_type": "code",
   "execution_count": null,
   "id": "6dcb3f27",
   "metadata": {},
   "outputs": [],
   "source": [
    "intervals_df = pd.DataFrame(interval_lengths, columns=['Numbers'])"
   ]
  },
  {
   "cell_type": "code",
   "execution_count": null,
   "id": "c8eb2c76",
   "metadata": {},
   "outputs": [],
   "source": [
    "intervals_single = [i for i,m in zip(interval_lengths, intervals_are_multichr) if not m]\n",
    "\n",
    "intervals_single_df = pd.DataFrame(intervals_single)\n",
    "\n",
    "intervals_single_df.describe()"
   ]
  },
  {
   "cell_type": "code",
   "execution_count": null,
   "id": "c8a2ec65",
   "metadata": {},
   "outputs": [],
   "source": [
    "intervals_df.describe()"
   ]
  },
  {
   "cell_type": "code",
   "execution_count": null,
   "id": "0eb85de8",
   "metadata": {},
   "outputs": [],
   "source": [
    "Q1 = intervals_df['Numbers'].quantile(0.25)  # 25th percentile\n",
    "Q3 = intervals_df['Numbers'].quantile(0.75)  # 75th percentile\n",
    "IQR = Q3 - Q1\n",
    "lower_threshold = Q1 - 1.5 * IQR\n",
    "upper_threshold = Q3 + 1.5 * IQR"
   ]
  },
  {
   "cell_type": "code",
   "execution_count": null,
   "id": "02fe633f",
   "metadata": {},
   "outputs": [],
   "source": [
    "lower_threshold, upper_threshold"
   ]
  },
  {
   "cell_type": "code",
   "execution_count": null,
   "id": "73f63500",
   "metadata": {},
   "outputs": [],
   "source": [
    "intervals_outliers = intervals_df[intervals_df['Numbers'] > upper_threshold]\n",
    "intervals_outliers.describe()"
   ]
  },
  {
   "cell_type": "code",
   "execution_count": null,
   "id": "831ea536",
   "metadata": {},
   "outputs": [],
   "source": [
    "intervals_no_outliers = intervals_df[intervals_df['Numbers'] < upper_threshold]"
   ]
  },
  {
   "cell_type": "code",
   "execution_count": null,
   "id": "aa9d2d1c",
   "metadata": {
    "scrolled": true
   },
   "outputs": [],
   "source": [
    "intervals_no_outliers.describe()"
   ]
  },
  {
   "cell_type": "code",
   "execution_count": null,
   "id": "2347bd48",
   "metadata": {},
   "outputs": [],
   "source": [
    "# using fitter to test different distributions"
   ]
  },
  {
   "cell_type": "code",
   "execution_count": null,
   "id": "9edd4c9b",
   "metadata": {
    "scrolled": true
   },
   "outputs": [],
   "source": [
    "f = Fitter(intervals_no_outliers)\n",
    "f.fit()\n",
    "print(f.summary())"
   ]
  },
  {
   "cell_type": "code",
   "execution_count": null,
   "id": "1affd895",
   "metadata": {},
   "outputs": [],
   "source": [
    "# for slides\n",
    "f = Fitter(intervals_no_outliers, distributions=['fatiguelife','mielke','burr12','johnsonsu','nct','gamma','expon'])\n",
    "f.fit()\n",
    "print(f.df_errors)"
   ]
  },
  {
   "cell_type": "code",
   "execution_count": null,
   "id": "9a3a2933",
   "metadata": {},
   "outputs": [],
   "source": [
    "f.get_best()"
   ]
  },
  {
   "cell_type": "code",
   "execution_count": null,
   "id": "99ad6e9b",
   "metadata": {},
   "outputs": [],
   "source": [
    "f = Fitter(intervals_no_outliers, distributions=['gamma'])\n",
    "f.fit()\n",
    "print(f.summary())"
   ]
  },
  {
   "cell_type": "code",
   "execution_count": null,
   "id": "ff0d565d",
   "metadata": {},
   "outputs": [],
   "source": [
    "f.get_best()"
   ]
  },
  {
   "cell_type": "code",
   "execution_count": null,
   "id": "63c1df43",
   "metadata": {},
   "outputs": [],
   "source": [
    "f = Fitter(intervals_no_outliers, distributions=['expon'])\n",
    "f.fit()\n",
    "print(f.summary())"
   ]
  },
  {
   "cell_type": "code",
   "execution_count": null,
   "id": "290b64b6",
   "metadata": {},
   "outputs": [],
   "source": [
    "f.get_best()"
   ]
  },
  {
   "cell_type": "code",
   "execution_count": null,
   "id": "63a51fb8",
   "metadata": {},
   "outputs": [],
   "source": [
    "# using scipy to fit the exponential dist"
   ]
  },
  {
   "cell_type": "code",
   "execution_count": null,
   "id": "becbe01c",
   "metadata": {},
   "outputs": [],
   "source": [
    "loc, scale = expon.fit(intervals_no_outliers)\n",
    "\n",
    "lambda_param = 1/scale\n",
    "\n",
    "print(f\"Fitted lambda: {lambda_param}, loc: {loc}, scale: {scale}\")\n",
    "\n",
    "test_value = \n",
    "\n",
    "cdf = expon.cdf(test_value, loc=loc, scale=scale)\n",
    "\n",
    "1-cdf"
   ]
  },
  {
   "cell_type": "code",
   "execution_count": null,
   "id": "1da66aec",
   "metadata": {},
   "outputs": [],
   "source": [
    "# histogram plots for experimental interval dists"
   ]
  },
  {
   "cell_type": "code",
   "execution_count": null,
   "id": "f4e55433",
   "metadata": {},
   "outputs": [],
   "source": [
    "plt.figure(figsize=(8, 6))\n",
    "plt.hist(intervals_single, bins=50, alpha=0.7)\n",
    "plt.title(\"Interval Lengths for Single Chromosome ecDNAs (310)\")\n",
    "plt.xlabel(\"Length (nt)\")\n",
    "plt.ylabel(\"Frequency\")\n",
    "plt.grid(axis='y', linestyle='--', alpha=0.7)\n",
    "plt.show()"
   ]
  },
  {
   "cell_type": "code",
   "execution_count": null,
   "id": "45175e01",
   "metadata": {},
   "outputs": [],
   "source": [
    "plt.figure(figsize=(8, 6))\n",
    "plt.hist(interval_lengths, bins=50, alpha=0.7)\n",
    "plt.title(\"Interval Lengths for all CCLE ecDNAs (361)\")\n",
    "plt.xlabel(\"Length (nt)\")\n",
    "plt.ylabel(\"Frequency\")\n",
    "plt.grid(axis='y', linestyle='--', alpha=0.7)\n",
    "plt.show()"
   ]
  },
  {
   "cell_type": "code",
   "execution_count": null,
   "id": "b691cf88",
   "metadata": {},
   "outputs": [],
   "source": [
    "cutoff = 25000\n",
    "intervals_cutoff = [i for i in interval_lengths if i < cutoff]"
   ]
  },
  {
   "cell_type": "code",
   "execution_count": null,
   "id": "24a93bb2",
   "metadata": {},
   "outputs": [],
   "source": [
    "plt.figure(figsize=(8, 6))\n",
    "plt.hist(intervals_cutoff, bins=50, alpha=0.7)\n",
    "plt.title(\"Interval Lengths < 100000\")\n",
    "plt.xlabel(\"Length (nt)\")\n",
    "plt.ylabel(\"Frequency\")\n",
    "plt.grid(axis='y', linestyle='--', alpha=0.7)\n",
    "plt.show()"
   ]
  },
  {
   "cell_type": "code",
   "execution_count": null,
   "id": "b22dc5b2",
   "metadata": {},
   "outputs": [],
   "source": [
    "plt.figure(figsize=(8, 6))\n",
    "plt.hist(feature_lengths, bins=50, alpha=0.7)\n",
    "plt.title(\"Interval Lengths Summed Per Feature\")\n",
    "plt.xlabel(\"Length (nt)\")\n",
    "plt.ylabel(\"Frequency\")\n",
    "plt.grid(axis='y', linestyle='--', alpha=0.7)\n",
    "plt.show()"
   ]
  },
  {
   "cell_type": "code",
   "execution_count": null,
   "id": "fbae5bbb",
   "metadata": {},
   "outputs": [],
   "source": [
    "# function to save list to text file\n",
    "def save_list_to_txt(numbers, filename):\n",
    "    with open(filename, 'w') as f:\n",
    "        for number in numbers:\n",
    "            f.write(f\"{number}\\n\")"
   ]
  },
  {
   "cell_type": "code",
   "execution_count": null,
   "id": "6a1c50ce",
   "metadata": {},
   "outputs": [],
   "source": [
    "save_list_to_txt(lengths1, \"ccle_interval_lengths.txt\")\n",
    "save_list_to_txt(lengths2, \"ccle_interval_lengths_summed_by_feature.txt\")"
   ]
  },
  {
   "cell_type": "code",
   "execution_count": null,
   "id": "38bff595",
   "metadata": {},
   "outputs": [],
   "source": []
  }
 ],
 "metadata": {
  "kernelspec": {
   "display_name": "Python 3 (ipykernel)",
   "language": "python",
   "name": "python3"
  },
  "language_info": {
   "codemirror_mode": {
    "name": "ipython",
    "version": 3
   },
   "file_extension": ".py",
   "mimetype": "text/x-python",
   "name": "python",
   "nbconvert_exporter": "python",
   "pygments_lexer": "ipython3",
   "version": "3.10.12"
  }
 },
 "nbformat": 4,
 "nbformat_minor": 5
}
